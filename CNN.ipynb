{
  "nbformat": 4,
  "nbformat_minor": 0,
  "metadata": {
    "colab": {
      "name": "ICS_UAS_CNN.ipynb",
      "provenance": [],
      "collapsed_sections": [],
      "toc_visible": true
    },
    "kernelspec": {
      "display_name": "Python 3",
      "name": "python3"
    }
  },
  "cells": [
    {
      "cell_type": "markdown",
      "metadata": {
        "id": "uX4dn1kYpM21"
      },
      "source": [
        "#Import Library"
      ]
    },
    {
      "cell_type": "code",
      "metadata": {
        "id": "HTP8soM_I5mW"
      },
      "source": [
        "import matplotlib.pyplot as plt\n",
        "import numpy as np\n",
        "import os\n",
        "import PIL\n",
        "import tensorflow as tf\n",
        "import pathlib\n",
        "import time\n",
        "\n",
        "from PIL import Image\n",
        "from tensorflow import keras\n",
        "from tensorflow.keras import layers\n",
        "from tensorflow.keras.optimizers import Adam\n",
        "from tensorflow.keras.models import Sequential"
      ],
      "execution_count": 184,
      "outputs": []
    },
    {
      "cell_type": "markdown",
      "metadata": {
        "id": "uMAWjXnOpP10"
      },
      "source": [
        "#Upload Foto dari *GitHub*"
      ]
    },
    {
      "cell_type": "code",
      "metadata": {
        "id": "e8B-rmSgeqFB"
      },
      "source": [
        "#Ambil dataset foto, directory filenya nanti bisa diliat di files yang kiri (/content/dataset/)\n",
        "dataset_url = \"https://github.com/AFSiraj/RAD_CNN/blob/main/foto_kelas.tar?raw=true\"\n",
        "unpack = tf.keras.utils.get_file('Foto kelas', origin=dataset_url, untar=True, cache_dir = '/content/')\n",
        "data_diri = pathlib.Path('/content/datasets/foto_kelas/Foto kelas')"
      ],
      "execution_count": 185,
      "outputs": []
    },
    {
      "cell_type": "markdown",
      "metadata": {
        "id": "2aVOwoF-pWXf"
      },
      "source": [
        "###cek jumlah foto"
      ]
    },
    {
      "cell_type": "code",
      "metadata": {
        "colab": {
          "base_uri": "https://localhost:8080/"
        },
        "id": "TB2f3U5Zfr7m",
        "outputId": "f24585cc-d6af-4a4c-dfa3-05d681d17254"
      },
      "source": [
        "#cek jumlah foto\n",
        "image_count = len(list(data_diri.glob('*/*.jpg')))\n",
        "print(image_count)"
      ],
      "execution_count": 186,
      "outputs": [
        {
          "output_type": "stream",
          "text": [
            "390\n"
          ],
          "name": "stdout"
        }
      ]
    },
    {
      "cell_type": "markdown",
      "metadata": {
        "id": "GN5DD4ocpqWs"
      },
      "source": [
        "#Preprocessing | buat dataset"
      ]
    },
    {
      "cell_type": "code",
      "metadata": {
        "id": "iQmXeY23tDJw"
      },
      "source": [
        "batch_size = 10\n",
        "img_height = 100\n",
        "img_width = 100"
      ],
      "execution_count": 187,
      "outputs": []
    },
    {
      "cell_type": "code",
      "metadata": {
        "colab": {
          "base_uri": "https://localhost:8080/"
        },
        "id": "fAmRPlOVp6Ls",
        "outputId": "72c4119c-8b81-48ee-b851-dffff321565b"
      },
      "source": [
        "train_ds = tf.keras.preprocessing.image_dataset_from_directory(\n",
        "  data_diri,\n",
        "  validation_split=0.3,\n",
        "  subset=\"training\",\n",
        "  seed=123,\n",
        "  image_size=(img_height, img_width),\n",
        "  batch_size=batch_size,\n",
        "  labels='inferred',\n",
        "  shuffle='false' ,\n",
        "  color_mode='grayscale',\n",
        "  )"
      ],
      "execution_count": 188,
      "outputs": [
        {
          "output_type": "stream",
          "text": [
            "Found 390 files belonging to 39 classes.\n",
            "Using 273 files for training.\n"
          ],
          "name": "stdout"
        }
      ]
    },
    {
      "cell_type": "code",
      "metadata": {
        "colab": {
          "base_uri": "https://localhost:8080/"
        },
        "id": "_49TCui7p8xT",
        "outputId": "76091370-11d4-4301-bb08-422a751e0a0b"
      },
      "source": [
        "val_ds = tf.keras.preprocessing.image_dataset_from_directory(\n",
        "  data_diri,\n",
        "  validation_split=0.3,\n",
        "  subset=\"validation\",\n",
        "  seed=123,\n",
        "  image_size=(img_height, img_width),\n",
        "  batch_size=batch_size,\n",
        "  labels='inferred',\n",
        "  shuffle='false',\n",
        "  color_mode='grayscale'\n",
        "  )"
      ],
      "execution_count": 189,
      "outputs": [
        {
          "output_type": "stream",
          "text": [
            "Found 390 files belonging to 39 classes.\n",
            "Using 117 files for validation.\n"
          ],
          "name": "stdout"
        }
      ]
    },
    {
      "cell_type": "code",
      "metadata": {
        "colab": {
          "base_uri": "https://localhost:8080/"
        },
        "id": "2zCIDQABvYZm",
        "outputId": "7377ce04-97d0-4a52-904d-f12238335449"
      },
      "source": [
        "class_names = train_ds.class_names\n",
        "print(class_names)"
      ],
      "execution_count": 190,
      "outputs": [
        {
          "output_type": "stream",
          "text": [
            "['ada', 'aff', 'afs', 'agm', 'agp', 'alf', 'ano', 'ard', 'arm', 'bsp', 'dko', 'dyn', 'fah', 'fpp', 'gas', 'gbm', 'gcc', 'gdj', 'gsa', 'him', 'hmr', 'htg', 'hwe', 'ikf', 'imr', 'jos', 'map', 'mfd', 'mfm', 'mfr', 'mhz', 'mia', 'mka', 'mkp', 'mrh', 'nfa', 'rag', 'sfv', 'sia']\n"
          ],
          "name": "stdout"
        }
      ]
    },
    {
      "cell_type": "code",
      "metadata": {
        "id": "BolCMMoQwz-V"
      },
      "source": [
        "# plt.figure(figsize=(10, 10))\n",
        "# for images, labels in train_ds.take(1):\n",
        "#   for i in range(10):\n",
        "#     ax = plt.subplot(5, 5, i + 1)\n",
        "#     plt.imshow(images[i].numpy().astype(\"uint8\"))\n",
        "#     plt.title(class_names[labels[i]])\n",
        "#     plt.axis(\"off\")"
      ],
      "execution_count": 191,
      "outputs": []
    },
    {
      "cell_type": "code",
      "metadata": {
        "id": "kC9yar4V9yp0"
      },
      "source": [
        "# plt.figure(figsize=(10, 10))\n",
        "# for images, labels in val_ds.take(1):\n",
        "#   for i in range(10):\n",
        "#     ax = plt.subplot(5, 5, i + 1)\n",
        "#     plt.imshow(images[i].numpy().astype(\"uint8\"))\n",
        "#     plt.title(class_names[labels[i]])\n",
        "#     plt.axis(\"off\")"
      ],
      "execution_count": 192,
      "outputs": []
    },
    {
      "cell_type": "markdown",
      "metadata": {
        "id": "u8j8GVzvDI6c"
      },
      "source": [
        "# Create the model"
      ]
    },
    {
      "cell_type": "code",
      "metadata": {
        "id": "4nhVTg8hDM95"
      },
      "source": [
        "num_classes = 39\n",
        "\n",
        "model = Sequential([\n",
        "  layers.experimental.preprocessing.Rescaling(1./255, input_shape=(img_height, img_width, 1)),\n",
        "  layers.Conv2D(16, (3,3), padding='same', activation='relu'),\n",
        "  layers.MaxPooling2D(),\n",
        "  layers.Conv2D(32, (3,3), padding='same', activation='relu'),\n",
        "  layers.MaxPooling2D(),\n",
        "  layers.Conv2D(64, (3,3), padding='same', activation='relu'),\n",
        "  layers.MaxPooling2D(),\n",
        "  layers.Flatten(input_shape=(100,100)),\n",
        "  layers.Dense(64, activation='tanh'),\n",
        "  layers.Dense(num_classes, activation='tanh')\n",
        "])"
      ],
      "execution_count": 193,
      "outputs": []
    },
    {
      "cell_type": "markdown",
      "metadata": {
        "id": "4rcDZiEzDT0P"
      },
      "source": [
        "Compile the model"
      ]
    },
    {
      "cell_type": "code",
      "metadata": {
        "id": "8EGvs5uGDVr0"
      },
      "source": [
        "model.compile(optimizer='adam',\n",
        "              loss=tf.keras.losses.SparseCategoricalCrossentropy(from_logits=True),\n",
        "              metrics=['accuracy'])"
      ],
      "execution_count": 194,
      "outputs": []
    },
    {
      "cell_type": "code",
      "metadata": {
        "id": "eN7XaADzDZcQ",
        "colab": {
          "base_uri": "https://localhost:8080/"
        },
        "outputId": "18e72989-fed4-49cb-a96f-c6e7299b6e63"
      },
      "source": [
        "model.summary()"
      ],
      "execution_count": 195,
      "outputs": [
        {
          "output_type": "stream",
          "text": [
            "Model: \"sequential_24\"\n",
            "_________________________________________________________________\n",
            "Layer (type)                 Output Shape              Param #   \n",
            "=================================================================\n",
            "rescaling_24 (Rescaling)     (None, 100, 100, 1)       0         \n",
            "_________________________________________________________________\n",
            "conv2d_56 (Conv2D)           (None, 100, 100, 16)      160       \n",
            "_________________________________________________________________\n",
            "max_pooling2d_54 (MaxPooling (None, 50, 50, 16)        0         \n",
            "_________________________________________________________________\n",
            "conv2d_57 (Conv2D)           (None, 50, 50, 32)        4640      \n",
            "_________________________________________________________________\n",
            "max_pooling2d_55 (MaxPooling (None, 25, 25, 32)        0         \n",
            "_________________________________________________________________\n",
            "conv2d_58 (Conv2D)           (None, 25, 25, 64)        18496     \n",
            "_________________________________________________________________\n",
            "max_pooling2d_56 (MaxPooling (None, 12, 12, 64)        0         \n",
            "_________________________________________________________________\n",
            "flatten_24 (Flatten)         (None, 9216)              0         \n",
            "_________________________________________________________________\n",
            "dense_27 (Dense)             (None, 64)                589888    \n",
            "_________________________________________________________________\n",
            "dense_28 (Dense)             (None, 39)                2535      \n",
            "=================================================================\n",
            "Total params: 615,719\n",
            "Trainable params: 615,719\n",
            "Non-trainable params: 0\n",
            "_________________________________________________________________\n"
          ],
          "name": "stdout"
        }
      ]
    },
    {
      "cell_type": "markdown",
      "metadata": {
        "id": "KJQt19OyDzK3"
      },
      "source": [
        "Train"
      ]
    },
    {
      "cell_type": "code",
      "metadata": {
        "id": "AQZYWhpqD07R",
        "colab": {
          "base_uri": "https://localhost:8080/"
        },
        "outputId": "187851ee-3391-464b-b672-88f1f0e60643"
      },
      "source": [
        "start = time.time()\n",
        "\n",
        "epochs=10\n",
        "history = model.fit(\n",
        "  train_ds,\n",
        "  validation_data=val_ds,\n",
        "  epochs=epochs\n",
        ")\n",
        "\n",
        "end = time.time()\n",
        "\n",
        "print(\"\\nProgram runs for \" + str(end - start) + \" Seconds\")"
      ],
      "execution_count": 196,
      "outputs": [
        {
          "output_type": "stream",
          "text": [
            "Epoch 1/10\n",
            "28/28 [==============================] - 4s 123ms/step - loss: 3.6494 - accuracy: 0.0646 - val_loss: 3.3015 - val_accuracy: 0.2137\n",
            "Epoch 2/10\n",
            "28/28 [==============================] - 3s 115ms/step - loss: 2.9300 - accuracy: 0.5220 - val_loss: 2.5458 - val_accuracy: 0.7607\n",
            "Epoch 3/10\n",
            "28/28 [==============================] - 3s 114ms/step - loss: 2.3793 - accuracy: 0.8810 - val_loss: 2.3173 - val_accuracy: 0.8803\n",
            "Epoch 4/10\n",
            "28/28 [==============================] - 3s 114ms/step - loss: 2.1658 - accuracy: 0.9557 - val_loss: 2.2150 - val_accuracy: 0.8803\n",
            "Epoch 5/10\n",
            "28/28 [==============================] - 3s 114ms/step - loss: 2.0312 - accuracy: 0.9984 - val_loss: 2.1645 - val_accuracy: 0.8974\n",
            "Epoch 6/10\n",
            "28/28 [==============================] - 3s 113ms/step - loss: 1.9662 - accuracy: 1.0000 - val_loss: 2.0961 - val_accuracy: 0.9060\n",
            "Epoch 7/10\n",
            "28/28 [==============================] - 3s 115ms/step - loss: 1.9364 - accuracy: 0.9905 - val_loss: 2.1143 - val_accuracy: 0.9145\n",
            "Epoch 8/10\n",
            "28/28 [==============================] - 3s 116ms/step - loss: 1.9025 - accuracy: 1.0000 - val_loss: 2.0849 - val_accuracy: 0.9145\n",
            "Epoch 9/10\n",
            "28/28 [==============================] - 3s 115ms/step - loss: 1.8843 - accuracy: 1.0000 - val_loss: 2.0615 - val_accuracy: 0.9145\n",
            "Epoch 10/10\n",
            "28/28 [==============================] - 3s 114ms/step - loss: 1.8702 - accuracy: 1.0000 - val_loss: 2.0639 - val_accuracy: 0.9231\n",
            "\n",
            "Program runs for 33.21164846420288 Seconds\n"
          ],
          "name": "stdout"
        }
      ]
    },
    {
      "cell_type": "markdown",
      "metadata": {
        "id": "4roiqF66EJM6"
      },
      "source": [
        "Visualize training results"
      ]
    },
    {
      "cell_type": "code",
      "metadata": {
        "id": "uLZn8zIaEMW3",
        "colab": {
          "base_uri": "https://localhost:8080/",
          "height": 499
        },
        "outputId": "771c7458-0199-4064-f96d-656c04abe426"
      },
      "source": [
        "acc = history.history['accuracy']\n",
        "val_acc = history.history['val_accuracy']\n",
        "\n",
        "loss = history.history['loss']\n",
        "val_loss = history.history['val_loss']\n",
        "\n",
        "epochs_range = range(epochs)\n",
        "\n",
        "plt.figure(figsize=(8, 8))\n",
        "plt.subplot(1, 2, 1)\n",
        "plt.plot(epochs_range, acc, label='Training Accuracy')\n",
        "plt.plot(epochs_range, val_acc, label='Validation Accuracy')\n",
        "plt.legend(loc='lower right')\n",
        "plt.title('Training and Validation Accuracy')\n",
        "\n",
        "plt.subplot(1, 2, 2)\n",
        "plt.plot(epochs_range, loss, label='Training Loss')\n",
        "plt.plot(epochs_range, val_loss, label='Validation Loss')\n",
        "plt.legend(loc='upper right')\n",
        "plt.title('Training and Validation Loss')\n",
        "plt.show()"
      ],
      "execution_count": 197,
      "outputs": [
        {
          "output_type": "display_data",
          "data": {
            "image/png": "[encoded data removed]",
            "text/plain": [
              "<Figure size 576x576 with 2 Axes>"
            ]
          },
          "metadata": {
            "tags": [],
            "needs_background": "light"
          }
        }
      ]
    },
    {
      "cell_type": "code",
      "metadata": {
        "id": "AG3dSKk13dLe",
        "colab": {
          "base_uri": "https://localhost:8080/",
          "height": 192
        },
        "outputId": "856dc076-bfd0-4485-c5f3-91e4c635fc61"
      },
      "source": [
        "test_url = \"https://github.com/AFSiraj/RAD_CNN/blob/main/mkp_1.jpg?raw=true\"    #Gambar input merupakan gambar dengan kelas mkp maka output seharusnya menunjukan kelas mkp\n",
        "test_path = tf.keras.utils.get_file('mkp_1', origin=test_url)\n",
        "\n",
        "img = keras.preprocessing.image.load_img(\n",
        "    test_path, target_size=(img_height, img_width),\n",
        "    color_mode='grayscale'\n",
        ")\n",
        "img_array = keras.preprocessing.image.img_to_array(img)\n",
        "img_array = tf.expand_dims(img_array, 0) # Create a batch\n",
        "\n",
        "start = time.time()\n",
        "predictions = model.predict(img_array)\n",
        "end = time.time()\n",
        "\n",
        "print(\"predict time: \"+ str(end - start) + \"s\" )\n",
        "\n",
        "score = tf.nn.softmax(predictions[0])\n",
        "\n",
        "print(\n",
        "    \"Gambar ini termasuk class [{}]\"\n",
        "    .format(class_names[np.argmax(score)])\n",
        ")\n",
        "\n",
        "img"
      ],
      "execution_count": 198,
      "outputs": [
        {
          "output_type": "stream",
          "text": [
            "WARNING:tensorflow:9 out of the last 10 calls to <function Model.make_predict_function.<locals>.predict_function at 0x7f56970723b0> triggered tf.function retracing. Tracing is expensive and the excessive number of tracings could be due to (1) creating @tf.function repeatedly in a loop, (2) passing tensors with different shapes, (3) passing Python objects instead of tensors. For (1), please define your @tf.function outside of the loop. For (2), @tf.function has experimental_relax_shapes=True option that relaxes argument shapes that can avoid unnecessary retracing. For (3), please refer to https://www.tensorflow.org/guide/function#controlling_retracing and https://www.tensorflow.org/api_docs/python/tf/function for  more details.\n",
            "predict time: 0.12133121490478516s\n",
            "Gambar ini termasuk class [mkp]\n"
          ],
          "name": "stdout"
        },
        {
          "output_type": "execute_result",
          "data": {
            "image/png": "[encoded data removed]",
            "text/plain": [
              "<PIL.Image.Image image mode=L size=100x100 at 0x7F5696E79210>"
            ]
          },
          "metadata": {
            "tags": []
          },
          "execution_count": 198
        }
      ]
    }
  ]
}